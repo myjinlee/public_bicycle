{
  "nbformat": 4,
  "nbformat_minor": 0,
  "metadata": {
    "colab": {
      "provenance": [],
      "mount_file_id": "14br4YhCJb_bIqtIYLnVEP_gAHCqPOp5Y",
      "authorship_tag": "ABX9TyM50eNB3L+EYdA41fGbAfTp",
      "include_colab_link": true
    },
    "kernelspec": {
      "name": "python3",
      "display_name": "Python 3"
    },
    "language_info": {
      "name": "python"
    }
  },
  "cells": [
    {
      "cell_type": "markdown",
      "metadata": {
        "id": "view-in-github",
        "colab_type": "text"
      },
      "source": [
        "<a href=\"https://colab.research.google.com/github/myjinlee/public_bicycle/blob/main/public_bicycle.ipynb\" target=\"_parent\"><img src=\"https://colab.research.google.com/assets/colab-badge.svg\" alt=\"Open In Colab\"/></a>"
      ]
    },
    {
      "cell_type": "code",
      "execution_count": 1,
      "metadata": {
        "id": "NwDMcwB76Z0d",
        "colab": {
          "base_uri": "https://localhost:8080/"
        },
        "outputId": "145c3191-c714-41e8-d0c7-7f3821e3e765"
      },
      "outputs": [
        {
          "output_type": "stream",
          "name": "stdout",
          "text": [
            "{'rentBikeStatus': {'list_total_count': 5, 'RESULT': {'CODE': 'INFO-000', 'MESSAGE': '정상 처리되었습니다.'}, 'row': [{'rackTotCnt': '15', 'stationName': '102. 망원역 1번출구 앞', 'parkingBikeTotCnt': '7', 'shared': '47', 'stationLatitude': '37.55564880', 'stationLongitude': '126.91062927', 'stationId': 'ST-4'}, {'rackTotCnt': '14', 'stationName': '103. 망원역 2번출구 앞', 'parkingBikeTotCnt': '2', 'shared': '14', 'stationLatitude': '37.55495071', 'stationLongitude': '126.91083527', 'stationId': 'ST-5'}, {'rackTotCnt': '13', 'stationName': '104. 합정역 1번출구 앞', 'parkingBikeTotCnt': '1', 'shared': '8', 'stationLatitude': '37.55073929', 'stationLongitude': '126.91508484', 'stationId': 'ST-6'}, {'rackTotCnt': '5', 'stationName': '105. 합정역 5번출구 앞', 'parkingBikeTotCnt': '0', 'shared': '0', 'stationLatitude': '37.55000687', 'stationLongitude': '126.91482544', 'stationId': 'ST-7'}, {'rackTotCnt': '12', 'stationName': '106. 합정역 7번출구 앞', 'parkingBikeTotCnt': '3', 'shared': '25', 'stationLatitude': '37.54864502', 'stationLongitude': '126.91282654', 'stationId': 'ST-8'}]}}\n"
          ]
        }
      ],
      "source": [
        "import requests\n",
        "r = requests.get('http://openapi.seoul.go.kr:8088/sample/json/bikeList/1/5')\n",
        "print(r.json())\n",
        "j=r.json()"
      ]
    },
    {
      "cell_type": "code",
      "source": [
        "for x in j['rentBikeStatus']['row']:# 대여소명과 대여횟수\n",
        "  print(x['stationName'], x['shared'])"
      ],
      "metadata": {
        "colab": {
          "base_uri": "https://localhost:8080/"
        },
        "id": "_pSlEUBU8WEl",
        "outputId": "3e3acfb7-0b08-4c26-e87e-211c515eed89"
      },
      "execution_count": 2,
      "outputs": [
        {
          "output_type": "stream",
          "name": "stdout",
          "text": [
            "102. 망원역 1번출구 앞 47\n",
            "103. 망원역 2번출구 앞 14\n",
            "104. 합정역 1번출구 앞 8\n",
            "105. 합정역 5번출구 앞 0\n",
            "106. 합정역 7번출구 앞 25\n"
          ]
        }
      ]
    },
    {
      "cell_type": "code",
      "source": [
        "for i in j['rentBikeStatus']['row']:#자전거 주차 총 건수\n",
        "  print(i['stationName']+'  :  '+i['parkingBikeTotCnt'])"
      ],
      "metadata": {
        "colab": {
          "base_uri": "https://localhost:8080/"
        },
        "id": "hqz1Ze8yDOh0",
        "outputId": "4efa49d3-acc9-4868-cb20-fb04f05d45a9"
      },
      "execution_count": 17,
      "outputs": [
        {
          "output_type": "stream",
          "name": "stdout",
          "text": [
            "102. 망원역 1번출구 앞  :  7\n",
            "103. 망원역 2번출구 앞  :  2\n",
            "104. 합정역 1번출구 앞  :  1\n",
            "105. 합정역 5번출구 앞  :  0\n",
            "106. 합정역 7번출구 앞  :  3\n"
          ]
        }
      ]
    },
    {
      "cell_type": "code",
      "source": [
        "for i in j['rentBikeStatus']['row']:#정류소ID parkingBikeTotCnt\n",
        "  print(i['stationId'])"
      ],
      "metadata": {
        "colab": {
          "base_uri": "https://localhost:8080/"
        },
        "id": "KXxA5XRMCwg8",
        "outputId": "05512466-3eff-4b41-834d-6785452d0838"
      },
      "execution_count": 14,
      "outputs": [
        {
          "output_type": "stream",
          "name": "stdout",
          "text": [
            "ST-4\n",
            "ST-5\n",
            "ST-6\n",
            "ST-7\n",
            "ST-8\n"
          ]
        }
      ]
    }
  ]
}